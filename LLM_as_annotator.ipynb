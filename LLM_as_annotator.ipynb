{
  "nbformat": 4,
  "nbformat_minor": 0,
  "metadata": {
    "colab": {
      "provenance": []
    },
    "kernelspec": {
      "name": "python3",
      "display_name": "Python 3"
    },
    "language_info": {
      "name": "python"
    }
  },
  "cells": [
    {
      "cell_type": "markdown",
      "source": [
        "# Using LLM's as annotators using MultiPiCo dataset from LeWiDi 2025.\n",
        "Goal of this experiment is to find out whether our selected Large Language Model, DeepSeek-V3, is capable of capturing annotator disagreement. First, we use Zero-Shot prompting. Afterwards, Few-Shot prompting will be applied as well to investigate its learning ability. The dataset that will be used will come from the third edition of the Learning With Disagreements shared task as part of SemEval. The MultiPiCo dataset contains annotated data on an irony detection task. DeepSeek-V3 will be tasked to provide a soft label distribution, with binary classification (1=ironic, 0=non-ironic)."
      ],
      "metadata": {
        "id": "0tQvsNDfutBI"
      }
    },
    {
      "cell_type": "markdown",
      "source": [
        "# Required installations"
      ],
      "metadata": {
        "id": "WjWSdZ2zwzZM"
      }
    },
    {
      "cell_type": "code",
      "source": [
        "%pip install openai"
      ],
      "metadata": {
        "colab": {
          "base_uri": "https://localhost:8080/"
        },
        "id": "A0a3dIgZw3R9",
        "outputId": "26b67a14-4838-460c-95c9-9a203f7996dc"
      },
      "execution_count": 10,
      "outputs": [
        {
          "output_type": "stream",
          "name": "stdout",
          "text": [
            "Requirement already satisfied: openai in /usr/local/lib/python3.11/dist-packages (1.78.1)\n",
            "Requirement already satisfied: anyio<5,>=3.5.0 in /usr/local/lib/python3.11/dist-packages (from openai) (4.9.0)\n",
            "Requirement already satisfied: distro<2,>=1.7.0 in /usr/local/lib/python3.11/dist-packages (from openai) (1.9.0)\n",
            "Requirement already satisfied: httpx<1,>=0.23.0 in /usr/local/lib/python3.11/dist-packages (from openai) (0.28.1)\n",
            "Requirement already satisfied: jiter<1,>=0.4.0 in /usr/local/lib/python3.11/dist-packages (from openai) (0.9.0)\n",
            "Requirement already satisfied: pydantic<3,>=1.9.0 in /usr/local/lib/python3.11/dist-packages (from openai) (2.11.4)\n",
            "Requirement already satisfied: sniffio in /usr/local/lib/python3.11/dist-packages (from openai) (1.3.1)\n",
            "Requirement already satisfied: tqdm>4 in /usr/local/lib/python3.11/dist-packages (from openai) (4.67.1)\n",
            "Requirement already satisfied: typing-extensions<5,>=4.11 in /usr/local/lib/python3.11/dist-packages (from openai) (4.13.2)\n",
            "Requirement already satisfied: idna>=2.8 in /usr/local/lib/python3.11/dist-packages (from anyio<5,>=3.5.0->openai) (3.10)\n",
            "Requirement already satisfied: certifi in /usr/local/lib/python3.11/dist-packages (from httpx<1,>=0.23.0->openai) (2025.4.26)\n",
            "Requirement already satisfied: httpcore==1.* in /usr/local/lib/python3.11/dist-packages (from httpx<1,>=0.23.0->openai) (1.0.9)\n",
            "Requirement already satisfied: h11>=0.16 in /usr/local/lib/python3.11/dist-packages (from httpcore==1.*->httpx<1,>=0.23.0->openai) (0.16.0)\n",
            "Requirement already satisfied: annotated-types>=0.6.0 in /usr/local/lib/python3.11/dist-packages (from pydantic<3,>=1.9.0->openai) (0.7.0)\n",
            "Requirement already satisfied: pydantic-core==2.33.2 in /usr/local/lib/python3.11/dist-packages (from pydantic<3,>=1.9.0->openai) (2.33.2)\n",
            "Requirement already satisfied: typing-inspection>=0.4.0 in /usr/local/lib/python3.11/dist-packages (from pydantic<3,>=1.9.0->openai) (0.4.0)\n"
          ]
        }
      ]
    },
    {
      "cell_type": "markdown",
      "source": [
        "# Loading the dataset"
      ],
      "metadata": {
        "id": "YKhnXA2IwVjl"
      }
    },
    {
      "cell_type": "code",
      "execution_count": 11,
      "metadata": {
        "colab": {
          "base_uri": "https://localhost:8080/"
        },
        "id": "SRWDJE1eppk5",
        "outputId": "7e6cd436-9a1d-458d-fbf4-ca271e7cdfb2"
      },
      "outputs": [
        {
          "output_type": "stream",
          "name": "stdout",
          "text": [
            "Drive already mounted at /content/drive; to attempt to forcibly remount, call drive.mount(\"/content/drive\", force_remount=True).\n"
          ]
        }
      ],
      "source": [
        "import json\n",
        "from google.colab import drive\n",
        "drive.mount('/content/drive')"
      ]
    },
    {
      "cell_type": "code",
      "source": [
        "file_path = '/content/drive/My Drive/data_practice_phase/data_practice_phase/MP/MP_train.json'\n",
        "with open(file_path, 'r') as file:\n",
        "  data = json.load(file)"
      ],
      "metadata": {
        "id": "YWR5hJF4sICX"
      },
      "execution_count": 12,
      "outputs": []
    },
    {
      "cell_type": "code",
      "source": [
        "import pandas as pd\n",
        "df = pd.DataFrame(data)\n",
        "df = df.transpose()\n",
        "# For this experiment, we will use Dutch annotation tasks only.\n",
        "dutch_df = df[df['lang'] == 'nl']\n",
        "dutch_df.head()"
      ],
      "metadata": {
        "colab": {
          "base_uri": "https://localhost:8080/",
          "height": 484
        },
        "id": "VFjyOJansKm-",
        "outputId": "f7566527-a4d1-48cd-986c-eb1a0c55b702"
      },
      "execution_count": 13,
      "outputs": [
        {
          "output_type": "execute_result",
          "data": {
            "text/plain": [
              "      annotation task                                               text  \\\n",
              "8134  irony detection  {'post': 'De dood is minder dan het geraamte, ...   \n",
              "8135  irony detection  {'post': 'Die vraag of leeftijd was wel een be...   \n",
              "8143  irony detection  {'post': '@USER Gefeliciteerd!', 'reply': '@US...   \n",
              "8144  irony detection  {'post': 'Gezamenlijke maaltijden zijn ontzett...   \n",
              "8146  irony detection  {'post': 'Tegenwoordig hebben veel mensen een ...   \n",
              "\n",
              "                              annotators number of annotations  \\\n",
              "8134  Ann215,Ann216,Ann226,Ann232,Ann236                     5   \n",
              "8135  Ann215,Ann220,Ann225,Ann230,Ann237                     5   \n",
              "8143  Ann215,Ann216,Ann225,Ann233,Ann235                     5   \n",
              "8144  Ann215,Ann218,Ann219,Ann223,Ann228                     5   \n",
              "8146  Ann215,Ann218,Ann224,Ann230,Ann231                     5   \n",
              "\n",
              "                                            annotations  \\\n",
              "8134  {'Ann215': '0', 'Ann216': '0', 'Ann226': '0', ...   \n",
              "8135  {'Ann215': '0', 'Ann220': '0', 'Ann225': '0', ...   \n",
              "8143  {'Ann215': '0', 'Ann216': '0', 'Ann225': '0', ...   \n",
              "8144  {'Ann215': '1', 'Ann218': '1', 'Ann219': '0', ...   \n",
              "8146  {'Ann215': '0', 'Ann218': '0', 'Ann224': '0', ...   \n",
              "\n",
              "                    soft_label  split lang  \\\n",
              "8134    {'0.0': 1.0, '1.0': 0}  train   nl   \n",
              "8135    {'0.0': 1.0, '1.0': 0}  train   nl   \n",
              "8143    {'0.0': 1.0, '1.0': 0}  train   nl   \n",
              "8144  {'0.0': 0.4, '1.0': 0.6}  train   nl   \n",
              "8146    {'0.0': 1.0, '1.0': 0}  train   nl   \n",
              "\n",
              "                                             other_info  \n",
              "8134  {'source': 'twitter', 'level': 1.0, 'language_...  \n",
              "8135  {'source': 'reddit', 'level': 1.0, 'language_v...  \n",
              "8143  {'source': 'twitter', 'level': 2.0, 'language_...  \n",
              "8144  {'source': 'twitter', 'level': 1.0, 'language_...  \n",
              "8146  {'source': 'reddit', 'level': 1.0, 'language_v...  "
            ],
            "text/html": [
              "\n",
              "  <div id=\"df-8b270b8e-4b7a-4cb8-a86d-8f4f46568e5c\" class=\"colab-df-container\">\n",
              "    <div>\n",
              "<style scoped>\n",
              "    .dataframe tbody tr th:only-of-type {\n",
              "        vertical-align: middle;\n",
              "    }\n",
              "\n",
              "    .dataframe tbody tr th {\n",
              "        vertical-align: top;\n",
              "    }\n",
              "\n",
              "    .dataframe thead th {\n",
              "        text-align: right;\n",
              "    }\n",
              "</style>\n",
              "<table border=\"1\" class=\"dataframe\">\n",
              "  <thead>\n",
              "    <tr style=\"text-align: right;\">\n",
              "      <th></th>\n",
              "      <th>annotation task</th>\n",
              "      <th>text</th>\n",
              "      <th>annotators</th>\n",
              "      <th>number of annotations</th>\n",
              "      <th>annotations</th>\n",
              "      <th>soft_label</th>\n",
              "      <th>split</th>\n",
              "      <th>lang</th>\n",
              "      <th>other_info</th>\n",
              "    </tr>\n",
              "  </thead>\n",
              "  <tbody>\n",
              "    <tr>\n",
              "      <th>8134</th>\n",
              "      <td>irony detection</td>\n",
              "      <td>{'post': 'De dood is minder dan het geraamte, ...</td>\n",
              "      <td>Ann215,Ann216,Ann226,Ann232,Ann236</td>\n",
              "      <td>5</td>\n",
              "      <td>{'Ann215': '0', 'Ann216': '0', 'Ann226': '0', ...</td>\n",
              "      <td>{'0.0': 1.0, '1.0': 0}</td>\n",
              "      <td>train</td>\n",
              "      <td>nl</td>\n",
              "      <td>{'source': 'twitter', 'level': 1.0, 'language_...</td>\n",
              "    </tr>\n",
              "    <tr>\n",
              "      <th>8135</th>\n",
              "      <td>irony detection</td>\n",
              "      <td>{'post': 'Die vraag of leeftijd was wel een be...</td>\n",
              "      <td>Ann215,Ann220,Ann225,Ann230,Ann237</td>\n",
              "      <td>5</td>\n",
              "      <td>{'Ann215': '0', 'Ann220': '0', 'Ann225': '0', ...</td>\n",
              "      <td>{'0.0': 1.0, '1.0': 0}</td>\n",
              "      <td>train</td>\n",
              "      <td>nl</td>\n",
              "      <td>{'source': 'reddit', 'level': 1.0, 'language_v...</td>\n",
              "    </tr>\n",
              "    <tr>\n",
              "      <th>8143</th>\n",
              "      <td>irony detection</td>\n",
              "      <td>{'post': '@USER Gefeliciteerd!', 'reply': '@US...</td>\n",
              "      <td>Ann215,Ann216,Ann225,Ann233,Ann235</td>\n",
              "      <td>5</td>\n",
              "      <td>{'Ann215': '0', 'Ann216': '0', 'Ann225': '0', ...</td>\n",
              "      <td>{'0.0': 1.0, '1.0': 0}</td>\n",
              "      <td>train</td>\n",
              "      <td>nl</td>\n",
              "      <td>{'source': 'twitter', 'level': 2.0, 'language_...</td>\n",
              "    </tr>\n",
              "    <tr>\n",
              "      <th>8144</th>\n",
              "      <td>irony detection</td>\n",
              "      <td>{'post': 'Gezamenlijke maaltijden zijn ontzett...</td>\n",
              "      <td>Ann215,Ann218,Ann219,Ann223,Ann228</td>\n",
              "      <td>5</td>\n",
              "      <td>{'Ann215': '1', 'Ann218': '1', 'Ann219': '0', ...</td>\n",
              "      <td>{'0.0': 0.4, '1.0': 0.6}</td>\n",
              "      <td>train</td>\n",
              "      <td>nl</td>\n",
              "      <td>{'source': 'twitter', 'level': 1.0, 'language_...</td>\n",
              "    </tr>\n",
              "    <tr>\n",
              "      <th>8146</th>\n",
              "      <td>irony detection</td>\n",
              "      <td>{'post': 'Tegenwoordig hebben veel mensen een ...</td>\n",
              "      <td>Ann215,Ann218,Ann224,Ann230,Ann231</td>\n",
              "      <td>5</td>\n",
              "      <td>{'Ann215': '0', 'Ann218': '0', 'Ann224': '0', ...</td>\n",
              "      <td>{'0.0': 1.0, '1.0': 0}</td>\n",
              "      <td>train</td>\n",
              "      <td>nl</td>\n",
              "      <td>{'source': 'reddit', 'level': 1.0, 'language_v...</td>\n",
              "    </tr>\n",
              "  </tbody>\n",
              "</table>\n",
              "</div>\n",
              "    <div class=\"colab-df-buttons\">\n",
              "\n",
              "  <div class=\"colab-df-container\">\n",
              "    <button class=\"colab-df-convert\" onclick=\"convertToInteractive('df-8b270b8e-4b7a-4cb8-a86d-8f4f46568e5c')\"\n",
              "            title=\"Convert this dataframe to an interactive table.\"\n",
              "            style=\"display:none;\">\n",
              "\n",
              "  <svg xmlns=\"http://www.w3.org/2000/svg\" height=\"24px\" viewBox=\"0 -960 960 960\">\n",
              "    <path d=\"M120-120v-720h720v720H120Zm60-500h600v-160H180v160Zm220 220h160v-160H400v160Zm0 220h160v-160H400v160ZM180-400h160v-160H180v160Zm440 0h160v-160H620v160ZM180-180h160v-160H180v160Zm440 0h160v-160H620v160Z\"/>\n",
              "  </svg>\n",
              "    </button>\n",
              "\n",
              "  <style>\n",
              "    .colab-df-container {\n",
              "      display:flex;\n",
              "      gap: 12px;\n",
              "    }\n",
              "\n",
              "    .colab-df-convert {\n",
              "      background-color: #E8F0FE;\n",
              "      border: none;\n",
              "      border-radius: 50%;\n",
              "      cursor: pointer;\n",
              "      display: none;\n",
              "      fill: #1967D2;\n",
              "      height: 32px;\n",
              "      padding: 0 0 0 0;\n",
              "      width: 32px;\n",
              "    }\n",
              "\n",
              "    .colab-df-convert:hover {\n",
              "      background-color: #E2EBFA;\n",
              "      box-shadow: 0px 1px 2px rgba(60, 64, 67, 0.3), 0px 1px 3px 1px rgba(60, 64, 67, 0.15);\n",
              "      fill: #174EA6;\n",
              "    }\n",
              "\n",
              "    .colab-df-buttons div {\n",
              "      margin-bottom: 4px;\n",
              "    }\n",
              "\n",
              "    [theme=dark] .colab-df-convert {\n",
              "      background-color: #3B4455;\n",
              "      fill: #D2E3FC;\n",
              "    }\n",
              "\n",
              "    [theme=dark] .colab-df-convert:hover {\n",
              "      background-color: #434B5C;\n",
              "      box-shadow: 0px 1px 3px 1px rgba(0, 0, 0, 0.15);\n",
              "      filter: drop-shadow(0px 1px 2px rgba(0, 0, 0, 0.3));\n",
              "      fill: #FFFFFF;\n",
              "    }\n",
              "  </style>\n",
              "\n",
              "    <script>\n",
              "      const buttonEl =\n",
              "        document.querySelector('#df-8b270b8e-4b7a-4cb8-a86d-8f4f46568e5c button.colab-df-convert');\n",
              "      buttonEl.style.display =\n",
              "        google.colab.kernel.accessAllowed ? 'block' : 'none';\n",
              "\n",
              "      async function convertToInteractive(key) {\n",
              "        const element = document.querySelector('#df-8b270b8e-4b7a-4cb8-a86d-8f4f46568e5c');\n",
              "        const dataTable =\n",
              "          await google.colab.kernel.invokeFunction('convertToInteractive',\n",
              "                                                    [key], {});\n",
              "        if (!dataTable) return;\n",
              "\n",
              "        const docLinkHtml = 'Like what you see? Visit the ' +\n",
              "          '<a target=\"_blank\" href=https://colab.research.google.com/notebooks/data_table.ipynb>data table notebook</a>'\n",
              "          + ' to learn more about interactive tables.';\n",
              "        element.innerHTML = '';\n",
              "        dataTable['output_type'] = 'display_data';\n",
              "        await google.colab.output.renderOutput(dataTable, element);\n",
              "        const docLink = document.createElement('div');\n",
              "        docLink.innerHTML = docLinkHtml;\n",
              "        element.appendChild(docLink);\n",
              "      }\n",
              "    </script>\n",
              "  </div>\n",
              "\n",
              "\n",
              "    <div id=\"df-d89e1421-063b-4c30-a3a3-8e9b16e664c7\">\n",
              "      <button class=\"colab-df-quickchart\" onclick=\"quickchart('df-d89e1421-063b-4c30-a3a3-8e9b16e664c7')\"\n",
              "                title=\"Suggest charts\"\n",
              "                style=\"display:none;\">\n",
              "\n",
              "<svg xmlns=\"http://www.w3.org/2000/svg\" height=\"24px\"viewBox=\"0 0 24 24\"\n",
              "     width=\"24px\">\n",
              "    <g>\n",
              "        <path d=\"M19 3H5c-1.1 0-2 .9-2 2v14c0 1.1.9 2 2 2h14c1.1 0 2-.9 2-2V5c0-1.1-.9-2-2-2zM9 17H7v-7h2v7zm4 0h-2V7h2v10zm4 0h-2v-4h2v4z\"/>\n",
              "    </g>\n",
              "</svg>\n",
              "      </button>\n",
              "\n",
              "<style>\n",
              "  .colab-df-quickchart {\n",
              "      --bg-color: #E8F0FE;\n",
              "      --fill-color: #1967D2;\n",
              "      --hover-bg-color: #E2EBFA;\n",
              "      --hover-fill-color: #174EA6;\n",
              "      --disabled-fill-color: #AAA;\n",
              "      --disabled-bg-color: #DDD;\n",
              "  }\n",
              "\n",
              "  [theme=dark] .colab-df-quickchart {\n",
              "      --bg-color: #3B4455;\n",
              "      --fill-color: #D2E3FC;\n",
              "      --hover-bg-color: #434B5C;\n",
              "      --hover-fill-color: #FFFFFF;\n",
              "      --disabled-bg-color: #3B4455;\n",
              "      --disabled-fill-color: #666;\n",
              "  }\n",
              "\n",
              "  .colab-df-quickchart {\n",
              "    background-color: var(--bg-color);\n",
              "    border: none;\n",
              "    border-radius: 50%;\n",
              "    cursor: pointer;\n",
              "    display: none;\n",
              "    fill: var(--fill-color);\n",
              "    height: 32px;\n",
              "    padding: 0;\n",
              "    width: 32px;\n",
              "  }\n",
              "\n",
              "  .colab-df-quickchart:hover {\n",
              "    background-color: var(--hover-bg-color);\n",
              "    box-shadow: 0 1px 2px rgba(60, 64, 67, 0.3), 0 1px 3px 1px rgba(60, 64, 67, 0.15);\n",
              "    fill: var(--button-hover-fill-color);\n",
              "  }\n",
              "\n",
              "  .colab-df-quickchart-complete:disabled,\n",
              "  .colab-df-quickchart-complete:disabled:hover {\n",
              "    background-color: var(--disabled-bg-color);\n",
              "    fill: var(--disabled-fill-color);\n",
              "    box-shadow: none;\n",
              "  }\n",
              "\n",
              "  .colab-df-spinner {\n",
              "    border: 2px solid var(--fill-color);\n",
              "    border-color: transparent;\n",
              "    border-bottom-color: var(--fill-color);\n",
              "    animation:\n",
              "      spin 1s steps(1) infinite;\n",
              "  }\n",
              "\n",
              "  @keyframes spin {\n",
              "    0% {\n",
              "      border-color: transparent;\n",
              "      border-bottom-color: var(--fill-color);\n",
              "      border-left-color: var(--fill-color);\n",
              "    }\n",
              "    20% {\n",
              "      border-color: transparent;\n",
              "      border-left-color: var(--fill-color);\n",
              "      border-top-color: var(--fill-color);\n",
              "    }\n",
              "    30% {\n",
              "      border-color: transparent;\n",
              "      border-left-color: var(--fill-color);\n",
              "      border-top-color: var(--fill-color);\n",
              "      border-right-color: var(--fill-color);\n",
              "    }\n",
              "    40% {\n",
              "      border-color: transparent;\n",
              "      border-right-color: var(--fill-color);\n",
              "      border-top-color: var(--fill-color);\n",
              "    }\n",
              "    60% {\n",
              "      border-color: transparent;\n",
              "      border-right-color: var(--fill-color);\n",
              "    }\n",
              "    80% {\n",
              "      border-color: transparent;\n",
              "      border-right-color: var(--fill-color);\n",
              "      border-bottom-color: var(--fill-color);\n",
              "    }\n",
              "    90% {\n",
              "      border-color: transparent;\n",
              "      border-bottom-color: var(--fill-color);\n",
              "    }\n",
              "  }\n",
              "</style>\n",
              "\n",
              "      <script>\n",
              "        async function quickchart(key) {\n",
              "          const quickchartButtonEl =\n",
              "            document.querySelector('#' + key + ' button');\n",
              "          quickchartButtonEl.disabled = true;  // To prevent multiple clicks.\n",
              "          quickchartButtonEl.classList.add('colab-df-spinner');\n",
              "          try {\n",
              "            const charts = await google.colab.kernel.invokeFunction(\n",
              "                'suggestCharts', [key], {});\n",
              "          } catch (error) {\n",
              "            console.error('Error during call to suggestCharts:', error);\n",
              "          }\n",
              "          quickchartButtonEl.classList.remove('colab-df-spinner');\n",
              "          quickchartButtonEl.classList.add('colab-df-quickchart-complete');\n",
              "        }\n",
              "        (() => {\n",
              "          let quickchartButtonEl =\n",
              "            document.querySelector('#df-d89e1421-063b-4c30-a3a3-8e9b16e664c7 button');\n",
              "          quickchartButtonEl.style.display =\n",
              "            google.colab.kernel.accessAllowed ? 'block' : 'none';\n",
              "        })();\n",
              "      </script>\n",
              "    </div>\n",
              "\n",
              "    </div>\n",
              "  </div>\n"
            ],
            "application/vnd.google.colaboratory.intrinsic+json": {
              "type": "dataframe",
              "variable_name": "dutch_df",
              "summary": "{\n  \"name\": \"dutch_df\",\n  \"rows\": 637,\n  \"fields\": [\n    {\n      \"column\": \"annotation task\",\n      \"properties\": {\n        \"dtype\": \"category\",\n        \"num_unique_values\": 1,\n        \"samples\": [\n          \"irony detection\"\n        ],\n        \"semantic_type\": \"\",\n        \"description\": \"\"\n      }\n    },\n    {\n      \"column\": \"text\",\n      \"properties\": {\n        \"dtype\": \"object\",\n        \"semantic_type\": \"\",\n        \"description\": \"\"\n      }\n    },\n    {\n      \"column\": \"annotators\",\n      \"properties\": {\n        \"dtype\": \"string\",\n        \"num_unique_values\": 629,\n        \"samples\": [\n          \"Ann221,Ann230,Ann232,Ann233,Ann234\"\n        ],\n        \"semantic_type\": \"\",\n        \"description\": \"\"\n      }\n    },\n    {\n      \"column\": \"number of annotations\",\n      \"properties\": {\n        \"dtype\": \"date\",\n        \"min\": 3,\n        \"max\": 7,\n        \"num_unique_values\": 5,\n        \"samples\": [\n          4\n        ],\n        \"semantic_type\": \"\",\n        \"description\": \"\"\n      }\n    },\n    {\n      \"column\": \"annotations\",\n      \"properties\": {\n        \"dtype\": \"object\",\n        \"semantic_type\": \"\",\n        \"description\": \"\"\n      }\n    },\n    {\n      \"column\": \"soft_label\",\n      \"properties\": {\n        \"dtype\": \"object\",\n        \"semantic_type\": \"\",\n        \"description\": \"\"\n      }\n    },\n    {\n      \"column\": \"split\",\n      \"properties\": {\n        \"dtype\": \"category\",\n        \"num_unique_values\": 1,\n        \"samples\": [\n          \"train\"\n        ],\n        \"semantic_type\": \"\",\n        \"description\": \"\"\n      }\n    },\n    {\n      \"column\": \"lang\",\n      \"properties\": {\n        \"dtype\": \"category\",\n        \"num_unique_values\": 1,\n        \"samples\": [\n          \"nl\"\n        ],\n        \"semantic_type\": \"\",\n        \"description\": \"\"\n      }\n    },\n    {\n      \"column\": \"other_info\",\n      \"properties\": {\n        \"dtype\": \"object\",\n        \"semantic_type\": \"\",\n        \"description\": \"\"\n      }\n    }\n  ]\n}"
            }
          },
          "metadata": {},
          "execution_count": 13
        }
      ]
    },
    {
      "cell_type": "markdown",
      "source": [
        "# Loading DeepSeek-V3"
      ],
      "metadata": {
        "id": "05pFhVGGuqv8"
      }
    },
    {
      "cell_type": "code",
      "source": [
        "from openai import OpenAI\n",
        "\n",
        "client = OpenAI(api_key=\"sk-cc8ca3c49efc4c5782bec2087763e4fa\", base_url=\"https://api.deepseek.com\")\n",
        "\n",
        "response = client.chat.completions.create(\n",
        "    model=\"deepseek-chat\",\n",
        "    messages=[\n",
        "        {\"role\": \"system\", \"content\": \"You are a helpful assistant\"},\n",
        "        {\"role\": \"user\", \"content\": \"Hi!\"},\n",
        "    ],\n",
        "    stream=False\n",
        ")\n",
        "print(response.choices[0].message.content)"
      ],
      "metadata": {
        "colab": {
          "base_uri": "https://localhost:8080/"
        },
        "id": "5uqPXXGUuqY_",
        "outputId": "0626b8aa-a0d8-4549-fff4-02fb47e62a19"
      },
      "execution_count": 14,
      "outputs": [
        {
          "output_type": "stream",
          "name": "stdout",
          "text": [
            "Hello! 😊 How can I assist you today?\n"
          ]
        }
      ]
    },
    {
      "cell_type": "markdown",
      "source": [
        "# Prompting techniques"
      ],
      "metadata": {
        "id": "UO9pDHz5y_SW"
      }
    },
    {
      "cell_type": "markdown",
      "source": [
        "We start off with Zero-Shot prompting. We feed the LLM the message and ask it to provide a soft label distribution."
      ],
      "metadata": {
        "id": "Dn-KY-QszE31"
      }
    },
    {
      "cell_type": "code",
      "source": [
        "def zero_shot_prompt(text, system_prompt):\n",
        "    prompt = f\"\"\"\n",
        "    Analyze the following post-reply message whether it is ironic.\n",
        "    Provide a soft label distribution for whether the reply to the post is ironic (1) or non-ironic (0).\n",
        "    Text: \"{text}\"\n",
        "    Requirements for the Output format:\n",
        "    A JSON object with keys \"ironic\" and \"non_ironic\", values must be between 0 and 1.\n",
        "    The values must sum up to 1.\n",
        "    Example Output:\n",
        "    {{\n",
        "      \"ironic\":0.6,\n",
        "      \"non_ironic\":0.4\n",
        "    }}\n",
        "\n",
        "    Analyze the provided text and return the output as mentioned above.\n",
        "    \"\"\"\n",
        "    response = client.chat.completions.create(\n",
        "        model=\"deepseek-chat\",\n",
        "        messages=[{\"role\": \"system\", \"content\": system_prompt},\n",
        "            {\"role\": \"user\", \"content\": prompt}],\n",
        "        response_format={\"type\": \"json_object\"},\n",
        "        stream=False\n",
        "    )\n",
        "    return response.choices[0].message.content\n",
        "\n",
        "print(zero_shot_prompt(dutch_df['text'][0], \"You are an assistant that annotates post-reply messages on irony\"), dutch_df['text'][0])"
      ],
      "metadata": {
        "colab": {
          "base_uri": "https://localhost:8080/"
        },
        "id": "lwxnI8qt1drV",
        "outputId": "c0757194-a434-4d38-a57f-f243bdd2d978"
      },
      "execution_count": 16,
      "outputs": [
        {
          "output_type": "stream",
          "name": "stderr",
          "text": [
            "<ipython-input-16-e23cc0f7250f>:26: FutureWarning: Series.__getitem__ treating keys as positions is deprecated. In a future version, integer keys will always be treated as labels (consistent with DataFrame behavior). To access a value by position, use `ser.iloc[pos]`\n",
            "  print(zero_shot_prompt(dutch_df['text'][0], \"You are an assistant that annotates post-reply messages on irony\"), dutch_df['text'][0])\n"
          ]
        },
        {
          "output_type": "stream",
          "name": "stdout",
          "text": [
            "{\n",
            "  \"ironic\": 0.3,\n",
            "  \"non_ironic\": 0.7\n",
            "} {'post': 'De dood is minder dan het geraamte, het leven…..', 'reply': '@USER Het is de jas die het geraamte omhuld en het karakter wat levenslust naar buiten brengt.'}\n"
          ]
        }
      ]
    },
    {
      "cell_type": "markdown",
      "source": [
        "Next, we use Few-Shot prompting. We feed the LLM three examples, and then the message. We ask it to provide a soft-label distribution."
      ],
      "metadata": {
        "id": "pXMxFnzn7dIJ"
      }
    },
    {
      "cell_type": "code",
      "source": [
        "def few_shot_prompt"
      ],
      "metadata": {
        "id": "Fzhq0OIf6Kk3"
      },
      "execution_count": null,
      "outputs": []
    }
  ]
}